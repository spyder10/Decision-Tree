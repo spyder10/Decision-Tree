{
 "cells": [
  {
   "cell_type": "code",
   "execution_count": 59,
   "metadata": {},
   "outputs": [],
   "source": [
    "#used to store the decison tree\n",
    "\n",
    "class TreeNode:\n",
    "    def __init__(self, data,output):\n",
    "        self.data = data\n",
    "        self.children = {}\n",
    "        self.output = output\n",
    "        self.index = -1\n",
    "        \n",
    "    def add_child(self,feature_value,obj):\n",
    "        self.children[feature_value] = obj"
   ]
  },
  {
   "cell_type": "code",
   "execution_count": 60,
   "metadata": {},
   "outputs": [],
   "source": [
    "#our owm classifier (actual decision tree that'll print steps as well as store the obtained decision tree)\n",
    "\n",
    "class D_T():\n",
    "    def __init__(self):\n",
    "        root=None\n",
    "    def op(self,y):\n",
    "        d={}\n",
    "        s=set(y)\n",
    "        for i in s:\n",
    "            c=0\n",
    "            for j in y:\n",
    "                if i==j:\n",
    "                    c+=1\n",
    "                    d[i]=c\n",
    "        return max(d)\n",
    "    def classification(self,y):\n",
    "        s=set(y)\n",
    "        for i in s:\n",
    "            c=0\n",
    "            for j in y:\n",
    "                if i==j:\n",
    "                    c+=1\n",
    "            print(\"Count of\",i,':',c)\n",
    "    def entropy(self,Y):\n",
    "        classes = set(Y)\n",
    "        value = 0\n",
    "        for i in classes:\n",
    "            p = (len(Y[Y==i])/len(Y))\n",
    "            value = value - (p*np.log2(p))\n",
    "        return value\n",
    "    def findGainRatio(self,X,Y,selectedFeature):\n",
    "        differentLabels = set(X[selectedFeature])\n",
    "        entropyBeforeSplitting = self.entropy(Y)\n",
    "        entropyAfterSplitting = 0\n",
    "        splitInfo = 0\n",
    "        for i in differentLabels:\n",
    "            newNodeY = Y[(X[selectedFeature] == i)]\n",
    "            weightOfSamples = (len(newNodeY)/len(Y))\n",
    "            entropyAfterSplitting = entropyAfterSplitting + (weightOfSamples*self.entropy(newNodeY))\n",
    "            splitInfo = splitInfo - (weightOfSamples*np.log2(weightOfSamples))\n",
    "        gain = entropyBeforeSplitting - entropyAfterSplitting\n",
    "        gainRatio = gain\n",
    "        return gainRatio\n",
    "\n",
    "    ###########################################################################################################################\n",
    "\n",
    "\n",
    "    def dt(self,df,y,f,l):\n",
    "        print()\n",
    "        print(\"level :\",l)\n",
    "\n",
    "        self.classification(y)\n",
    "        print(\"current entropy :\",self.entropy(y))\n",
    "        if len(f)==0 or (self.entropy(y)==0):\n",
    "            print(\"reached leaf node\")\n",
    "            return TreeNode(None,self.op(y))\n",
    "        sf=''\n",
    "        max_value = -float('inf')\n",
    "        for i in f:\n",
    "            c=self.findGainRatio(df,y,i)\n",
    "            if c>=max_value:\n",
    "                sf = i\n",
    "                max_value = c\n",
    "        print(\"splitting on feature :\",sf.upper(),\"with gain ratio :\",max_value)\n",
    "        p=set(df[sf])\n",
    "        f.remove(sf)\n",
    "        current_node = TreeNode(sf,self.op(y))\n",
    "        for i in p:\n",
    "            a=(df[sf]==i)\n",
    "            newdf=df[a]\n",
    "            newy=y[a]\n",
    "            node=self.dt(newdf,newy,f,l+1)\n",
    "            current_node.add_child(i,node)\n",
    "        return current_node\n",
    "    def __predict_for(self,data,node):\n",
    "            if len(node.children) == 0 :\n",
    "                return node.output\n",
    "            val = data[node.data]   \n",
    "            if val not in node.children :\n",
    "                return node.output\n",
    "            return self.__predict_for(data,node.children[val])\n",
    "\n",
    "    def predict(self,X):\n",
    "            Y = np.array([0 for i in range(len(X))])\n",
    "            for i in range(len(X)):\n",
    "                Y[i] = self.__predict_for(X.iloc[i],self.root)\n",
    "            return Y\n",
    "    def score(self,X,Y):\n",
    "            Y_pred = self.predict(X)\n",
    "            count = 0\n",
    "            for i in range(len(Y_pred)):\n",
    "                if Y_pred[i] == Y[i]:\n",
    "                    count+=1\n",
    "            return count/len(Y_pred)\n",
    "    def fit(self,x,y):\n",
    "        f=list(df.columns)\n",
    "        l=0\n",
    "        self.root=self.dt(x,y,f,l)\n",
    "        \n",
    "        "
   ]
  },
  {
   "cell_type": "markdown",
   "metadata": {},
   "source": [
    "# importing dataset and coverting it to labelled data"
   ]
  },
  {
   "cell_type": "code",
   "execution_count": 61,
   "metadata": {},
   "outputs": [],
   "source": [
    "import numpy as np\n",
    "import pandas as pd\n",
    "from sklearn import datasets\n",
    "iris = datasets.load_iris()\n",
    "df=pd.DataFrame(iris.data)\n",
    "y=(iris.target)\n",
    "df.columns = [\"sl\", \"sw\", 'pl', 'pw']\n",
    "def label(val, *boundaries):\n",
    "    if (val < boundaries[0]):\n",
    "        return 0\n",
    "    elif (val < boundaries[1]):\n",
    "        return 1\n",
    "    elif (val < boundaries[2]):\n",
    "        return 2\n",
    "    else:\n",
    "        return 3\n",
    "def toLabel(df, old_feature_name):\n",
    "    second = df[old_feature_name].mean()\n",
    "    minimum = df[old_feature_name].min()\n",
    "    first = (minimum + second)/2\n",
    "    maximum = df[old_feature_name].max()\n",
    "    third = (maximum + second)/2\n",
    "    return df[old_feature_name].apply(label, args= (first, second, third))\n",
    "df['sl_labeled'] = toLabel(df, 'sl')\n",
    "df['sw_labeled'] = toLabel(df, 'sw')\n",
    "df['pl_labeled'] = toLabel(df, 'pl')\n",
    "df['pw_labeled'] = toLabel(df, 'pw')\n",
    "df.drop(['sl', 'sw', 'pl', 'pw'], axis = 1, inplace = True)\n",
    "f=list(df.columns)"
   ]
  },
  {
   "cell_type": "markdown",
   "metadata": {},
   "source": [
    "# using our algo on the labelled dataset"
   ]
  },
  {
   "cell_type": "code",
   "execution_count": 62,
   "metadata": {},
   "outputs": [],
   "source": [
    "clf=D_T()"
   ]
  },
  {
   "cell_type": "code",
   "execution_count": 63,
   "metadata": {},
   "outputs": [
    {
     "name": "stdout",
     "output_type": "stream",
     "text": [
      "\n",
      "level : 0\n",
      "Count of 0 : 50\n",
      "Count of 1 : 50\n",
      "Count of 2 : 50\n",
      "current entropy : 1.584962500721156\n",
      "splitting on feature : PW_LABELED with gain ratio : 1.2627308217896138\n",
      "\n",
      "level : 1\n",
      "Count of 0 : 50\n",
      "current entropy : 0.0\n",
      "reached leaf node\n",
      "\n",
      "level : 1\n",
      "Count of 1 : 10\n",
      "current entropy : 0.0\n",
      "reached leaf node\n",
      "\n",
      "level : 1\n",
      "Count of 1 : 40\n",
      "Count of 2 : 16\n",
      "current entropy : 0.863120568566631\n",
      "splitting on feature : PL_LABELED with gain ratio : 0.3107100419019655\n",
      "\n",
      "level : 2\n",
      "Count of 1 : 1\n",
      "current entropy : 0.0\n",
      "reached leaf node\n",
      "\n",
      "level : 2\n",
      "Count of 1 : 39\n",
      "Count of 2 : 8\n",
      "current entropy : 0.6581912658132185\n",
      "splitting on feature : SL_LABELED with gain ratio : 0.15790810784426046\n",
      "\n",
      "level : 3\n",
      "Count of 2 : 1\n",
      "current entropy : 0.0\n",
      "reached leaf node\n",
      "\n",
      "level : 3\n",
      "Count of 1 : 14\n",
      "current entropy : 0.0\n",
      "reached leaf node\n",
      "\n",
      "level : 3\n",
      "Count of 1 : 23\n",
      "Count of 2 : 7\n",
      "current entropy : 0.783776947484701\n",
      "splitting on feature : SW_LABELED with gain ratio : 0.08807926473635475\n",
      "\n",
      "level : 4\n",
      "Count of 1 : 3\n",
      "Count of 2 : 1\n",
      "current entropy : 0.8112781244591328\n",
      "reached leaf node\n",
      "\n",
      "level : 4\n",
      "Count of 1 : 14\n",
      "Count of 2 : 6\n",
      "current entropy : 0.8812908992306927\n",
      "reached leaf node\n",
      "\n",
      "level : 4\n",
      "Count of 1 : 6\n",
      "current entropy : 0.0\n",
      "reached leaf node\n",
      "\n",
      "level : 3\n",
      "Count of 1 : 2\n",
      "current entropy : 0.0\n",
      "reached leaf node\n",
      "\n",
      "level : 2\n",
      "Count of 2 : 8\n",
      "current entropy : 0.0\n",
      "reached leaf node\n",
      "\n",
      "level : 1\n",
      "Count of 2 : 34\n",
      "current entropy : 0.0\n",
      "reached leaf node\n"
     ]
    }
   ],
   "source": [
    "clf.fit(df,y)"
   ]
  },
  {
   "cell_type": "code",
   "execution_count": 64,
   "metadata": {},
   "outputs": [],
   "source": [
    "y_pred=clf.predict(df)"
   ]
  },
  {
   "cell_type": "code",
   "execution_count": 65,
   "metadata": {},
   "outputs": [
    {
     "data": {
      "text/plain": [
       "array([0, 0, 0, 0, 0, 0, 0, 0, 0, 0, 0, 0, 0, 0, 0, 0, 0, 0, 0, 0, 0, 0,\n",
       "       0, 0, 0, 0, 0, 0, 0, 0, 0, 0, 0, 0, 0, 0, 0, 0, 0, 0, 0, 0, 0, 0,\n",
       "       0, 0, 0, 0, 0, 0, 1, 1, 1, 1, 2, 1, 1, 1, 2, 1, 1, 2, 1, 2, 1, 1,\n",
       "       1, 1, 2, 1, 1, 2, 2, 2, 2, 2, 2, 2, 2, 1, 1, 1, 1, 2, 1, 1, 1, 2,\n",
       "       1, 1, 1, 2, 1, 1, 1, 1, 1, 2, 1, 1, 2, 2, 2, 2, 2, 2, 2, 2, 2, 2,\n",
       "       2, 2, 2, 2, 2, 2, 2, 2, 2, 2, 2, 2, 2, 2, 2, 2, 2, 2, 2, 2, 2, 2,\n",
       "       2, 2, 2, 2, 2, 2, 2, 2, 2, 2, 2, 2, 2, 2, 2, 2, 2, 2])"
      ]
     },
     "execution_count": 65,
     "metadata": {},
     "output_type": "execute_result"
    }
   ],
   "source": [
    "y_pred"
   ]
  },
  {
   "cell_type": "code",
   "execution_count": 66,
   "metadata": {},
   "outputs": [
    {
     "data": {
      "text/plain": [
       "0.8866666666666667"
      ]
     },
     "execution_count": 66,
     "metadata": {},
     "output_type": "execute_result"
    }
   ],
   "source": [
    "clf.score(df,y)"
   ]
  },
  {
   "cell_type": "code",
   "execution_count": null,
   "metadata": {},
   "outputs": [],
   "source": []
  }
 ],
 "metadata": {
  "kernelspec": {
   "display_name": "Python 3",
   "language": "python",
   "name": "python3"
  },
  "language_info": {
   "codemirror_mode": {
    "name": "ipython",
    "version": 3
   },
   "file_extension": ".py",
   "mimetype": "text/x-python",
   "name": "python",
   "nbconvert_exporter": "python",
   "pygments_lexer": "ipython3",
   "version": "3.7.6"
  }
 },
 "nbformat": 4,
 "nbformat_minor": 4
}
